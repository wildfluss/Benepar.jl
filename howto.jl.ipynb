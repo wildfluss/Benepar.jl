{
 "cells": [
  {
   "cell_type": "code",
   "execution_count": 1,
   "metadata": {},
   "outputs": [
    {
     "name": "stdout",
     "output_type": "stream",
     "text": [
      "Collecting en-core-web-md==3.6.0\n",
      "  Downloading https://github.com/explosion/spacy-models/releases/download/en_core_web_md-3.6.0/en_core_web_md-3.6.0-py3-none-any.whl (42.8 MB)\n",
      "     ━━━━━━━━━━━━━━━━━━━━━━━━━━━━━━━━━━━━━━━━ 42.8/42.8 MB 9.4 MB/s eta 0:00:00\n",
      "Requirement already satisfied: spacy<3.7.0,>=3.6.0 in /Users/y/.julia/environments/v1.9/.CondaPkg/env/lib/python3.11/site-packages (from en-core-web-md==3.6.0) (3.6.1)\n",
      "Requirement already satisfied: spacy-legacy<3.1.0,>=3.0.11 in /Users/y/.julia/environments/v1.9/.CondaPkg/env/lib/python3.11/site-packages (from spacy<3.7.0,>=3.6.0->en-core-web-md==3.6.0) (3.0.12)\n",
      "Requirement already satisfied: spacy-loggers<2.0.0,>=1.0.0 in /Users/y/.julia/environments/v1.9/.CondaPkg/env/lib/python3.11/site-packages (from spacy<3.7.0,>=3.6.0->en-core-web-md==3.6.0) (1.0.4)\n",
      "Requirement already satisfied: murmurhash<1.1.0,>=0.28.0 in /Users/y/.julia/environments/v1.9/.CondaPkg/env/lib/python3.11/site-packages (from spacy<3.7.0,>=3.6.0->en-core-web-md==3.6.0) (1.0.9)\n",
      "Requirement already satisfied: cymem<2.1.0,>=2.0.2 in /Users/y/.julia/environments/v1.9/.CondaPkg/env/lib/python3.11/site-packages (from spacy<3.7.0,>=3.6.0->en-core-web-md==3.6.0) (2.0.7)\n",
      "Requirement already satisfied: preshed<3.1.0,>=3.0.2 in /Users/y/.julia/environments/v1.9/.CondaPkg/env/lib/python3.11/site-packages (from spacy<3.7.0,>=3.6.0->en-core-web-md==3.6.0) (3.0.8)\n",
      "Requirement already satisfied: thinc<8.2.0,>=8.1.8 in /Users/y/.julia/environments/v1.9/.CondaPkg/env/lib/python3.11/site-packages (from spacy<3.7.0,>=3.6.0->en-core-web-md==3.6.0) (8.1.12)\n",
      "Requirement already satisfied: wasabi<1.2.0,>=0.9.1 in /Users/y/.julia/environments/v1.9/.CondaPkg/env/lib/python3.11/site-packages (from spacy<3.7.0,>=3.6.0->en-core-web-md==3.6.0) (1.1.2)\n",
      "Requirement already satisfied: srsly<3.0.0,>=2.4.3 in /Users/y/.julia/environments/v1.9/.CondaPkg/env/lib/python3.11/site-packages (from spacy<3.7.0,>=3.6.0->en-core-web-md==3.6.0) (2.4.7)\n",
      "Requirement already satisfied: catalogue<2.1.0,>=2.0.6 in /Users/y/.julia/environments/v1.9/.CondaPkg/env/lib/python3.11/site-packages (from spacy<3.7.0,>=3.6.0->en-core-web-md==3.6.0) (2.0.9)\n",
      "Requirement already satisfied: typer<0.10.0,>=0.3.0 in /Users/y/.julia/environments/v1.9/.CondaPkg/env/lib/python3.11/site-packages (from spacy<3.7.0,>=3.6.0->en-core-web-md==3.6.0) (0.9.0)\n",
      "Requirement already satisfied: pathy>=0.10.0 in /Users/y/.julia/environments/v1.9/.CondaPkg/env/lib/python3.11/site-packages (from spacy<3.7.0,>=3.6.0->en-core-web-md==3.6.0) (0.10.2)\n",
      "Requirement already satisfied: smart-open<7.0.0,>=5.2.1 in /Users/y/.julia/environments/v1.9/.CondaPkg/env/lib/python3.11/site-packages (from spacy<3.7.0,>=3.6.0->en-core-web-md==3.6.0) (5.2.1)\n",
      "Requirement already satisfied: tqdm<5.0.0,>=4.38.0 in /Users/y/.julia/environments/v1.9/.CondaPkg/env/lib/python3.11/site-packages (from spacy<3.7.0,>=3.6.0->en-core-web-md==3.6.0) (4.66.1)\n",
      "Requirement already satisfied: numpy>=1.15.0 in /Users/y/.julia/environments/v1.9/.CondaPkg/env/lib/python3.11/site-packages (from spacy<3.7.0,>=3.6.0->en-core-web-md==3.6.0) (1.25.2)\n",
      "Requirement already satisfied: requests<3.0.0,>=2.13.0 in /Users/y/.julia/environments/v1.9/.CondaPkg/env/lib/python3.11/site-packages (from spacy<3.7.0,>=3.6.0->en-core-web-md==3.6.0) (2.31.0)\n",
      "Requirement already satisfied: pydantic!=1.8,!=1.8.1,<3.0.0,>=1.7.4 in /Users/y/.julia/environments/v1.9/.CondaPkg/env/lib/python3.11/site-packages (from spacy<3.7.0,>=3.6.0->en-core-web-md==3.6.0) (2.3.0)\n",
      "Requirement already satisfied: jinja2 in /Users/y/.julia/environments/v1.9/.CondaPkg/env/lib/python3.11/site-packages (from spacy<3.7.0,>=3.6.0->en-core-web-md==3.6.0) (3.1.2)\n",
      "Requirement already satisfied: setuptools in /Users/y/.julia/environments/v1.9/.CondaPkg/env/lib/python3.11/site-packages (from spacy<3.7.0,>=3.6.0->en-core-web-md==3.6.0) (68.1.2)\n",
      "Requirement already satisfied: packaging>=20.0 in /Users/y/.julia/environments/v1.9/.CondaPkg/env/lib/python3.11/site-packages (from spacy<3.7.0,>=3.6.0->en-core-web-md==3.6.0) (23.1)\n",
      "Requirement already satisfied: langcodes<4.0.0,>=3.2.0 in /Users/y/.julia/environments/v1.9/.CondaPkg/env/lib/python3.11/site-packages (from spacy<3.7.0,>=3.6.0->en-core-web-md==3.6.0) (3.3.0)\n",
      "Requirement already satisfied: annotated-types>=0.4.0 in /Users/y/.julia/environments/v1.9/.CondaPkg/env/lib/python3.11/site-packages (from pydantic!=1.8,!=1.8.1,<3.0.0,>=1.7.4->spacy<3.7.0,>=3.6.0->en-core-web-md==3.6.0) (0.5.0)\n",
      "Requirement already satisfied: pydantic-core==2.6.3 in /Users/y/.julia/environments/v1.9/.CondaPkg/env/lib/python3.11/site-packages (from pydantic!=1.8,!=1.8.1,<3.0.0,>=1.7.4->spacy<3.7.0,>=3.6.0->en-core-web-md==3.6.0) (2.6.3)\n",
      "Requirement already satisfied: typing-extensions>=4.6.1 in /Users/y/.julia/environments/v1.9/.CondaPkg/env/lib/python3.11/site-packages (from pydantic!=1.8,!=1.8.1,<3.0.0,>=1.7.4->spacy<3.7.0,>=3.6.0->en-core-web-md==3.6.0) (4.7.1)\n",
      "Requirement already satisfied: charset-normalizer<4,>=2 in /Users/y/.julia/environments/v1.9/.CondaPkg/env/lib/python3.11/site-packages (from requests<3.0.0,>=2.13.0->spacy<3.7.0,>=3.6.0->en-core-web-md==3.6.0) (3.2.0)\n",
      "Requirement already satisfied: idna<4,>=2.5 in /Users/y/.julia/environments/v1.9/.CondaPkg/env/lib/python3.11/site-packages (from requests<3.0.0,>=2.13.0->spacy<3.7.0,>=3.6.0->en-core-web-md==3.6.0) (3.4)\n",
      "Requirement already satisfied: urllib3<3,>=1.21.1 in /Users/y/.julia/environments/v1.9/.CondaPkg/env/lib/python3.11/site-packages (from requests<3.0.0,>=2.13.0->spacy<3.7.0,>=3.6.0->en-core-web-md==3.6.0) (2.0.4)\n",
      "Requirement already satisfied: certifi>=2017.4.17 in /Users/y/.julia/environments/v1.9/.CondaPkg/env/lib/python3.11/site-packages (from requests<3.0.0,>=2.13.0->spacy<3.7.0,>=3.6.0->en-core-web-md==3.6.0) (2023.7.22)\n",
      "Requirement already satisfied: blis<0.8.0,>=0.7.8 in /Users/y/.julia/environments/v1.9/.CondaPkg/env/lib/python3.11/site-packages (from thinc<8.2.0,>=8.1.8->spacy<3.7.0,>=3.6.0->en-core-web-md==3.6.0) (0.7.10)\n",
      "Requirement already satisfied: confection<1.0.0,>=0.0.1 in /Users/y/.julia/environments/v1.9/.CondaPkg/env/lib/python3.11/site-packages (from thinc<8.2.0,>=8.1.8->spacy<3.7.0,>=3.6.0->en-core-web-md==3.6.0) (0.1.1)\n",
      "Requirement already satisfied: click<9.0.0,>=7.1.1 in /Users/y/.julia/environments/v1.9/.CondaPkg/env/lib/python3.11/site-packages (from typer<0.10.0,>=0.3.0->spacy<3.7.0,>=3.6.0->en-core-web-md==3.6.0) (8.1.7)\n",
      "Requirement already satisfied: MarkupSafe>=2.0 in /Users/y/.julia/environments/v1.9/.CondaPkg/env/lib/python3.11/site-packages (from jinja2->spacy<3.7.0,>=3.6.0->en-core-web-md==3.6.0) (2.1.3)\n"
     ]
    },
    {
     "data": {
      "text/plain": [
       "Python: None"
      ]
     },
     "metadata": {},
     "output_type": "display_data"
    }
   ],
   "source": [
    "using Spacy\n",
    "spacy.cli.download(\"en_core_web_md\")"
   ]
  },
  {
   "cell_type": "code",
   "execution_count": 2,
   "metadata": {},
   "outputs": [
    {
     "name": "stderr",
     "output_type": "stream",
     "text": [
      "[nltk_data] Downloading package benepar_en3 to /Users/y/nltk_data...\n",
      "[nltk_data]   Package benepar_en3 is already up-to-date!\n"
     ]
    },
    {
     "data": {
      "text/plain": [
       "Python: True"
      ]
     },
     "metadata": {},
     "output_type": "display_data"
    }
   ],
   "source": [
    "using Benepar\n",
    "benepar.download(\"benepar_en3\")"
   ]
  },
  {
   "cell_type": "code",
   "execution_count": 3,
   "metadata": {},
   "outputs": [
    {
     "data": {
      "text/plain": [
       "Python: {'model': 'benepar_en3'}"
      ]
     },
     "metadata": {},
     "output_type": "display_data"
    }
   ],
   "source": [
    "using PythonCall\n",
    "# h/t: https://github.com/lanl-ansi/rosetta-opf/blob/1867107cb8b2d036dcd7ddac13637f627dd84ab5/variants/casadi.jl#L147\n",
    "config = PythonCall.pydict(Dict(\"model\"=>\"benepar_en3\")) # \"model\"=>\"benepar_en3\") # XXX does not work \n",
    "config "
   ]
  },
  {
   "cell_type": "code",
   "execution_count": 4,
   "metadata": {},
   "outputs": [
    {
     "name": "stderr",
     "output_type": "stream",
     "text": [
      "You are using the default legacy behaviour of the <class 'transformers.models.t5.tokenization_t5.T5Tokenizer'>. If you see this, DO NOT PANIC! This is expected, and simply means that the `legacy` (previous) behavior will be used so nothing changes for you. If you want to use the new behaviour, set `legacy=False`. This should only be set if you understand what it means, and thouroughly read the reason why this was added as explained in https://github.com/huggingface/transformers/pull/24565\n"
     ]
    },
    {
     "data": {
      "text/plain": [
       "Python: <benepar.integrations.spacy_plugin.BeneparComponent object at 0x29e1e5dd0>"
      ]
     },
     "metadata": {},
     "output_type": "display_data"
    }
   ],
   "source": [
    "nlp = spacy.load(\"en_core_web_md\")\n",
    "# https://docs.julialang.org/en/v1/manual/functions/#Keyword-Arguments\n",
    "nlp.add_pipe(\"benepar\"; config=config)"
   ]
  },
  {
   "cell_type": "code",
   "execution_count": 5,
   "metadata": {},
   "outputs": [
    {
     "data": {
      "text/plain": [
       "\"When Sebastian Thrun started working on self-driving cars at\\nGoogle in 2007, few people outside of the company took him\\nseriously. “I can tell you very senior CEOs of major American\\ncar companies would shake my hand and turn away because I wasn’t\\nworth talking to,” said Thrun, in an interview with Recode earlier\\nthis week.\\n\""
      ]
     },
     "metadata": {},
     "output_type": "display_data"
    }
   ],
   "source": [
    "text = \"\"\"\n",
    "    When Sebastian Thrun started working on self-driving cars at\n",
    "    Google in 2007, few people outside of the company took him\n",
    "    seriously. “I can tell you very senior CEOs of major American\n",
    "    car companies would shake my hand and turn away because I wasn’t\n",
    "    worth talking to,” said Thrun, in an interview with Recode earlier\n",
    "    this week.\n",
    "    \"\"\""
   ]
  },
  {
   "cell_type": "code",
   "execution_count": 6,
   "metadata": {},
   "outputs": [
    {
     "name": "stderr",
     "output_type": "stream",
     "text": [
      "You're using a T5TokenizerFast tokenizer. Please note that with a fast tokenizer, using the `__call__` method is faster than using a method to encode the text followed by a call to the `pad` method to get a padded encoding.\n",
      "/Users/y/.julia/environments/v1.9/.CondaPkg/env/lib/python3.11/site-packages/torch/distributions/distribution.py:51: UserWarning: <class 'torch_struct.distributions.TreeCRF'> does not define `arg_constraints`. Please set `arg_constraints = {}` or initialize the distribution with `validate_args=False` to turn off validation.\n",
      "  warnings.warn(f'{self.__class__} does not define `arg_constraints`. ' +\n"
     ]
    },
    {
     "data": {
      "text/plain": [
       "Python:\n",
       "When Sebastian Thrun started working on self-driving cars at\n",
       "Google in 2007, few people outside of the company took him\n",
       "seriously. “I can tell you very senior CEOs of major American\n",
       "car companies would shake my hand and turn away because I wasn’t\n",
       "worth talking to,” said Thrun, in an interview with Recode earlier\n",
       "this week.\n"
      ]
     },
     "metadata": {},
     "output_type": "display_data"
    }
   ],
   "source": [
    "doc = nlp(text)"
   ]
  },
  {
   "cell_type": "code",
   "execution_count": 7,
   "metadata": {},
   "outputs": [
    {
     "name": "stdout",
     "output_type": "stream",
     "text": [
      "When Sebastian Thrun started working on self-driving cars at\n",
      "Google in 2007, few people outside of the company took him\n",
      "seriously.:(S (SBAR (WHADVP (WRB When)) (S (NP (NNP Sebastian) (NNP Thrun)) (VP (VBD started) (VBG working) (PP (IN on) (NP (ADJP (NN self) (HYPH -) (VBG driving)) (NNS cars))) (PP (IN at) (NP (NNP \n",
      ") (NNP Google))) (PP (IN in) (NP (CD 2007)))))) (, ,) (NP (NP (JJ few) (NNS people)) (ADVP (IN outside) (PP (IN of) (NP (DT the) (NN company))))) (VP (VBD took) (NP (PRP him)) (ADVP (RB \n",
      ") (ADVP (RB seriously)))) (. .))\n",
      "\n",
      "“I can tell you very senior CEOs of major American\n",
      "car companies would shake my hand and turn away because I wasn’t\n",
      "worth talking to,” said Thrun, in an interview with Recode earlier\n",
      "this week.\n",
      ":(SINV (`` “) (S (NP (PRP I)) (VP (MD can) (VP (VB tell) (NP (PRP you)) (SBAR (S (NP (NP (ADJP (RB very) (JJ senior)) (NNS CEOs)) (PP (IN of) (NP (JJ major) (JJ American) (NN \n",
      ") (NN car) (NNS companies)))) (VP (MD would) (VP (VP (VB shake) (NP (PRP$ my) (NN hand))) (CC and) (VP (VP (VB turn) (ADVP (RB away))) (SBAR (IN because) (S (NP (PRP I)) (VP (VBD was) (RB n’t) (ADJP (JJ \n",
      ") (S (ADJP (JJ worth) (S (VP (VBG talking) (PP (IN to)))))))))))))))))) (, ,) ('' ”) (VP (VBD said)) (NP (NNP Thrun)) (, ,) (PP (IN in) (NP (NP (DT an) (NN interview)) (PP (IN with) (NP (NNP Recode))))) (NP (ADVP (RBR earlier)) (DT \n",
      ") (DT this) (NN week)) (. .) (. \n",
      "))\n",
      "\n"
     ]
    }
   ],
   "source": [
    "for sent in doc.sents\n",
    "    print(\"$(sent.text):\")\n",
    "    # for l in sent._.labels\n",
    "    #     println(\"$(l) \")\n",
    "    # end\n",
    "    println(\"$(sent._.parse_string)\")\n",
    "    println()\n",
    "end"
   ]
  }
 ],
 "metadata": {
  "kernelspec": {
   "display_name": "Julia 1.9.3",
   "language": "julia",
   "name": "julia-1.9"
  },
  "language_info": {
   "file_extension": ".jl",
   "mimetype": "application/julia",
   "name": "julia",
   "version": "1.9.3"
  },
  "orig_nbformat": 4
 },
 "nbformat": 4,
 "nbformat_minor": 2
}
